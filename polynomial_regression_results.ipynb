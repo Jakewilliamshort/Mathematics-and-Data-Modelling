{
 "cells": [
  {
   "cell_type": "markdown",
   "metadata": {},
   "source": [
    "# Polynomial regression"
   ]
  },
  {
   "cell_type": "markdown",
   "metadata": {},
   "source": [
    "# Importing packages"
   ]
  },
  {
   "cell_type": "code",
   "execution_count": 1,
   "metadata": {},
   "outputs": [],
   "source": [
    "import numpy as np\n",
    "import matplotlib.pyplot as plt\n",
    "from sklearn.preprocessing import StandardScaler, MinMaxScaler, PolynomialFeatures\n",
    "from sklearn.linear_model import LinearRegression"
   ]
  },
  {
   "cell_type": "code",
   "execution_count": 2,
   "metadata": {},
   "outputs": [],
   "source": [
    "frequencies = np.array([10, 12.5, 16, 20, 25, 31.5, 40, 50, 63, 80, 100,\n",
    "                        125, 160, 200, 250, 315, 400, 500, 630, 800, 1000,\n",
    "                        1250, 1600, 2000, 2500, 3150, 4000, 5000, 6300,\n",
    "                        8000, 10000])\n",
    "windspeeds = np.array([8, 8.5, 9, 9.5, 10, 10.5, 11, 11.5, 12, 12.5, 13,\n",
    "                       13.5, 14, 14.5, 15, 15.5, 16])\n",
    "log_fr = np.log(frequencies)\n",
    "log_frequencies = log_fr.reshape(-1, 1)"
   ]
  },
  {
   "cell_type": "code",
   "execution_count": 3,
   "metadata": {},
   "outputs": [],
   "source": [
    "with open('turbine_1_measured.csv', 'r') as f:\n",
    "    volume_measured_data = np.genfromtxt(f, delimiter=',')"
   ]
  },
  {
   "cell_type": "code",
   "execution_count": 4,
   "metadata": {},
   "outputs": [],
   "source": [
    "with open('turbine_1_simulated.csv', 'r') as f:\n",
    "    volume_simulated_data = np.genfromtxt(f, delimiter=',')"
   ]
  },
  {
   "cell_type": "code",
   "execution_count": 5,
   "metadata": {},
   "outputs": [],
   "source": [
    "with open('turbine_2_measured.csv', 'r') as f:\n",
    "    volume_measured_2_data = np.genfromtxt(f, delimiter=',')"
   ]
  },
  {
   "cell_type": "code",
   "execution_count": 6,
   "metadata": {},
   "outputs": [],
   "source": [
    "with open('turbine_2_simulated.csv', 'r') as f:\n",
    "    volume_simulated_2_data = np.genfromtxt(f, delimiter=',')"
   ]
  },
  {
   "cell_type": "code",
   "execution_count": 7,
   "metadata": {},
   "outputs": [],
   "source": [
    "no_of_rows = volume_measured_data.shape[0]\n",
    "coef_measured = np.zeros((no_of_rows,3))\n",
    "coef_simulated = np.zeros((no_of_rows,3))"
   ]
  },
  {
   "cell_type": "code",
   "execution_count": 8,
   "metadata": {},
   "outputs": [],
   "source": [
    "no_of_rows_2 = volume_measured_2_data.shape[0]\n",
    "coef_measured_2 = np.zeros((no_of_rows_2,3))\n",
    "coef_simulated_2 = np.zeros((no_of_rows_2,3))"
   ]
  },
  {
   "cell_type": "code",
   "execution_count": 9,
   "metadata": {},
   "outputs": [],
   "source": [
    "degree = 2\n",
    "poly = PolynomialFeatures(degree)\n",
    "Xpoly = poly.fit_transform(log_frequencies)"
   ]
  },
  {
   "cell_type": "code",
   "execution_count": 10,
   "metadata": {},
   "outputs": [],
   "source": [
    "for i in range(no_of_rows):\n",
    "    volume_measured = volume_measured_data[i, :].reshape(-1, 1)\n",
    "    volume_simulated = volume_simulated_data[i, :].reshape(-1, 1)\n",
    "    \n",
    "    lr1 = LinearRegression(fit_intercept=False)\n",
    "    reg1 = lr1.fit(Xpoly, volume_measured)\n",
    "    \n",
    "    lr2 = LinearRegression(fit_intercept=False)\n",
    "    reg2 = lr2.fit(Xpoly, volume_simulated)\n",
    "    \n",
    "    coef_measured[i,:] = lr1.coef_\n",
    "    coef_simulated[i,:] = lr2.coef_"
   ]
  },
  {
   "cell_type": "code",
   "execution_count": 11,
   "metadata": {},
   "outputs": [],
   "source": [
    "for i in range(no_of_rows_2):\n",
    "    volume_measured_2 = volume_measured_2_data[i, :].reshape(-1, 1)\n",
    "    volume_simulated_2 = volume_simulated_2_data[i, :].reshape(-1, 1)\n",
    "    \n",
    "    lr3 = LinearRegression(fit_intercept=False)\n",
    "    reg3 = lr3.fit(Xpoly, volume_measured_2)\n",
    "    \n",
    "    lr4 = LinearRegression(fit_intercept=False)\n",
    "    reg4 = lr4.fit(Xpoly, volume_simulated_2)\n",
    "    \n",
    "    coef_measured_2[i,:] = lr3.coef_\n",
    "    coef_simulated_2[i,:] = lr4.coef_"
   ]
  },
  {
   "cell_type": "code",
   "execution_count": 12,
   "metadata": {},
   "outputs": [],
   "source": [
    "shift_measured = np.zeros((no_of_rows,3))\n",
    "shift_simulated = np.zeros((no_of_rows,3))\n",
    "\n",
    "shift_measured[:,0] = coef_measured[:,0]\n",
    "shift_simulated[:,0] = coef_simulated[:,0]\n",
    "\n",
    "shift_measured[:,1] = -0.5 * (coef_measured[:,1] / coef_measured[:,0]) \n",
    "shift_simulated[:,1] = -0.5 * (coef_simulated[:,1] / coef_simulated[:,0])\n",
    "\n",
    "shift_measured[:,2] = coef_measured[:,2] - (shift_measured[:,0] * shift_measured[:,1] ** 2)\n",
    "shift_simulated[:,2] = coef_simulated[:,2] - (shift_simulated[:,0] * shift_simulated[:,1] ** 2)"
   ]
  },
  {
   "cell_type": "code",
   "execution_count": 13,
   "metadata": {},
   "outputs": [],
   "source": [
    "shift_measured_2 = np.zeros((no_of_rows_2,3))\n",
    "shift_simulated_2 = np.zeros((no_of_rows_2,3))\n",
    "\n",
    "shift_measured_2[:,0] = coef_measured_2[:,0]\n",
    "shift_simulated_2[:,0] = coef_simulated_2[:,0]\n",
    "\n",
    "shift_measured_2[:,1] = -0.5 * (coef_measured_2[:,1] / coef_measured_2[:,0]) \n",
    "shift_simulated_2[:,1] = -0.5 * (coef_simulated_2[:,1] / coef_simulated_2[:,0])\n",
    "\n",
    "shift_measured_2[:,2] = coef_measured_2[:,2] - (shift_measured_2[:,0] * shift_measured_2[:,1] ** 2)\n",
    "shift_simulated_2[:,2] = coef_simulated_2[:,2] - (shift_simulated_2[:,0] * shift_simulated_2[:,1] ** 2)"
   ]
  },
  {
   "cell_type": "code",
   "execution_count": 14,
   "metadata": {},
   "outputs": [],
   "source": [
    "weights = np.zeros((no_of_rows,3))\n",
    "\n",
    "weights[:,0] = np.log(shift_simulated[:,0]/shift_measured[:,0])\n",
    "weights[:,1] = shift_simulated[:,1] - shift_measured[:,1]\n",
    "weights[:,2] = shift_simulated[:,2] - shift_measured[:,2]"
   ]
  },
  {
   "cell_type": "code",
   "execution_count": 15,
   "metadata": {},
   "outputs": [],
   "source": [
    "weights_2 = np.zeros((no_of_rows_2,3))\n",
    "\n",
    "weights_2[:,0] = np.log(shift_simulated_2[:,0]/shift_measured_2[:,0])\n",
    "weights_2[:,1] = shift_simulated_2[:,1] - shift_measured_2[:,1]\n",
    "weights_2[:,2] = shift_simulated_2[:,2] - shift_measured_2[:,2]"
   ]
  },
  {
   "cell_type": "code",
   "execution_count": 16,
   "metadata": {},
   "outputs": [],
   "source": [
    "stack_weights = np.vstack((weights,weights_2))"
   ]
  },
  {
   "cell_type": "code",
   "execution_count": 17,
   "metadata": {},
   "outputs": [],
   "source": [
    "scaler_1 = StandardScaler()\n",
    "abs_weights_1 = np.absolute(weights)\n",
    "abs_scaled_weights_1 = scaler_1.fit_transform(abs_weights_1)\n",
    "scores_1 = np.mean(abs_scaled_weights_1, 1)"
   ]
  },
  {
   "cell_type": "code",
   "execution_count": 18,
   "metadata": {},
   "outputs": [],
   "source": [
    "scaler_2 = StandardScaler()\n",
    "abs_weights_2 = np.absolute(weights_2)\n",
    "abs_scaled_weights_2 = scaler_2.fit_transform(abs_weights_2)\n",
    "scores_2 = np.mean(abs_scaled_weights_2, 1)"
   ]
  },
  {
   "cell_type": "code",
   "execution_count": 19,
   "metadata": {},
   "outputs": [],
   "source": [
    "scaler_stack = StandardScaler()\n",
    "abs_weights_stack = np.absolute(stack_weights)\n",
    "abs_scaled_weights_stack = scaler_stack.fit_transform(abs_weights_stack)\n",
    "combined_scores_stack = np.mean(abs_scaled_weights_stack, 1)\n",
    "scores_stack, scores_2_stack = np.split(combined_scores_stack, [no_of_rows])"
   ]
  },
  {
   "cell_type": "code",
   "execution_count": 20,
   "metadata": {},
   "outputs": [
    {
     "data": {
      "text/plain": [
       "array([[-0.39993153],\n",
       "       [ 0.53288827],\n",
       "       [ 1.5774486 ],\n",
       "       [ 1.37370282],\n",
       "       [ 0.54748981],\n",
       "       [-0.308369  ],\n",
       "       [-0.75831111],\n",
       "       [-1.29177236],\n",
       "       [-1.28853497],\n",
       "       [-1.1841821 ],\n",
       "       [-0.95587346],\n",
       "       [-0.40750774],\n",
       "       [ 0.56541506],\n",
       "       [ 2.04132411],\n",
       "       [ 0.16445324],\n",
       "       [-0.12759995],\n",
       "       [-0.0806397 ]])"
      ]
     },
     "execution_count": 20,
     "metadata": {},
     "output_type": "execute_result"
    }
   ],
   "source": [
    "scores_1.reshape(-1,1)"
   ]
  },
  {
   "cell_type": "code",
   "execution_count": 21,
   "metadata": {},
   "outputs": [
    {
     "data": {
      "text/plain": [
       "array([[ 0.26295637],\n",
       "       [ 1.2782613 ],\n",
       "       [ 2.4124367 ],\n",
       "       [ 2.19141764],\n",
       "       [ 1.29072053],\n",
       "       [ 0.36316439],\n",
       "       [-0.1168538 ],\n",
       "       [-0.68371067],\n",
       "       [-0.69090733],\n",
       "       [-0.58158927],\n",
       "       [-0.34192926],\n",
       "       [ 0.24007116],\n",
       "       [ 1.28412552],\n",
       "       [ 2.88818024],\n",
       "       [ 0.84979304],\n",
       "       [ 0.53726543],\n",
       "       [ 0.58597422]])"
      ]
     },
     "execution_count": 21,
     "metadata": {},
     "output_type": "execute_result"
    }
   ],
   "source": [
    "scores_stack.reshape(-1,1)"
   ]
  },
  {
   "cell_type": "code",
   "execution_count": 22,
   "metadata": {},
   "outputs": [
    {
     "data": {
      "text/plain": [
       "array([[-0.58467459],\n",
       "       [-1.24589674],\n",
       "       [-1.61160362],\n",
       "       [-1.68952129],\n",
       "       [-0.6141798 ],\n",
       "       [-1.01384173],\n",
       "       [-0.38834794],\n",
       "       [-0.846825  ],\n",
       "       [-0.21078444],\n",
       "       [ 0.39479745],\n",
       "       [-0.10033054],\n",
       "       [ 0.87545909],\n",
       "       [ 1.38263431],\n",
       "       [ 1.25232455],\n",
       "       [ 0.84655794],\n",
       "       [ 0.54599351],\n",
       "       [ 1.62828836],\n",
       "       [ 0.9655554 ],\n",
       "       [ 0.41439507]])"
      ]
     },
     "execution_count": 22,
     "metadata": {},
     "output_type": "execute_result"
    }
   ],
   "source": [
    "scores_2.reshape(-1,1)"
   ]
  },
  {
   "cell_type": "code",
   "execution_count": 23,
   "metadata": {},
   "outputs": [
    {
     "data": {
      "text/plain": [
       "array([[-0.7036477 ],\n",
       "       [-0.8218475 ],\n",
       "       [-0.87331166],\n",
       "       [-0.9016216 ],\n",
       "       [-0.7357751 ],\n",
       "       [-0.80457467],\n",
       "       [-0.69872911],\n",
       "       [-0.76460271],\n",
       "       [-0.65408465],\n",
       "       [-0.55216816],\n",
       "       [-0.63803845],\n",
       "       [-0.47462805],\n",
       "       [-0.39011049],\n",
       "       [-0.40978465],\n",
       "       [-0.47547108],\n",
       "       [-0.5241091 ],\n",
       "       [-0.34896662],\n",
       "       [-0.45430348],\n",
       "       [-0.54360143]])"
      ]
     },
     "execution_count": 23,
     "metadata": {},
     "output_type": "execute_result"
    }
   ],
   "source": [
    "scores_2_stack.reshape(-1,1)"
   ]
  },
  {
   "cell_type": "code",
   "execution_count": 24,
   "metadata": {},
   "outputs": [],
   "source": [
    "minmax_1 = MinMaxScaler()\n",
    "abs_weights_minmax_1 = np.absolute(weights)\n",
    "abs_scaled_weights_minmax_1 = minmax_1.fit_transform(abs_weights_minmax_1)\n",
    "scores_minmax_1 = np.mean(abs_scaled_weights_minmax_1, 1)"
   ]
  },
  {
   "cell_type": "code",
   "execution_count": 25,
   "metadata": {},
   "outputs": [],
   "source": [
    "minmax_2 = MinMaxScaler()\n",
    "abs_weights_minmax_2 = np.absolute(weights_2)\n",
    "abs_scaled_weights_minmax_2 = minmax_2.fit_transform(abs_weights_minmax_2)\n",
    "scores_minmax_2 = np.mean(abs_scaled_weights_minmax_2, 1)"
   ]
  },
  {
   "cell_type": "code",
   "execution_count": 26,
   "metadata": {},
   "outputs": [],
   "source": [
    "minmax_stack = MinMaxScaler()\n",
    "abs_weights_minmax_stack = np.absolute(stack_weights)\n",
    "abs_scaled_weights_minmax_stack = minmax_stack.fit_transform(abs_weights_minmax_stack)\n",
    "combined_scores_minmax_stack = np.mean(abs_scaled_weights_minmax_stack, 1)\n",
    "scores_minmax_stack, scores_2_minmax_stack = np.split(combined_scores_minmax_stack, [no_of_rows])"
   ]
  },
  {
   "cell_type": "code",
   "execution_count": 27,
   "metadata": {},
   "outputs": [
    {
     "data": {
      "text/plain": [
       "array([[0.2790487 ],\n",
       "       [0.55381628],\n",
       "       [0.86041902],\n",
       "       [0.80067688],\n",
       "       [0.55688439],\n",
       "       [0.30620603],\n",
       "       [0.177053  ],\n",
       "       [0.02467393],\n",
       "       [0.02156197],\n",
       "       [0.05083044],\n",
       "       [0.11497776],\n",
       "       [0.27122149],\n",
       "       [0.55216887],\n",
       "       [0.98502741],\n",
       "       [0.43507648],\n",
       "       [0.35111275],\n",
       "       [0.36405621]])"
      ]
     },
     "execution_count": 27,
     "metadata": {},
     "output_type": "execute_result"
    }
   ],
   "source": [
    "scores_minmax_1.reshape(-1,1)"
   ]
  },
  {
   "cell_type": "code",
   "execution_count": 28,
   "metadata": {},
   "outputs": [
    {
     "data": {
      "text/plain": [
       "array([[0.30312228],\n",
       "       [0.56977139],\n",
       "       [0.86706774],\n",
       "       [0.80915203],\n",
       "       [0.5724734 ],\n",
       "       [0.32951829],\n",
       "       [0.20492911],\n",
       "       [0.05810151],\n",
       "       [0.05415825],\n",
       "       [0.08223789],\n",
       "       [0.14380163],\n",
       "       [0.29425277],\n",
       "       [0.56562109],\n",
       "       [0.98519907],\n",
       "       [0.45223306],\n",
       "       [0.37122067],\n",
       "       [0.3835813 ]])"
      ]
     },
     "execution_count": 28,
     "metadata": {},
     "output_type": "execute_result"
    }
   ],
   "source": [
    "scores_minmax_stack.reshape(-1,1)"
   ]
  },
  {
   "cell_type": "code",
   "execution_count": 29,
   "metadata": {},
   "outputs": [
    {
     "data": {
      "text/plain": [
       "array([[0.34140549],\n",
       "       [0.14402209],\n",
       "       [0.03575192],\n",
       "       [0.01151773],\n",
       "       [0.33104754],\n",
       "       [0.21172609],\n",
       "       [0.39825499],\n",
       "       [0.26235876],\n",
       "       [0.45218777],\n",
       "       [0.6327099 ],\n",
       "       [0.4848163 ],\n",
       "       [0.77568674],\n",
       "       [0.92685904],\n",
       "       [0.88810401],\n",
       "       [0.76723895],\n",
       "       [0.67773207],\n",
       "       [1.        ],\n",
       "       [0.80276399],\n",
       "       [0.63866785]])"
      ]
     },
     "execution_count": 29,
     "metadata": {},
     "output_type": "execute_result"
    }
   ],
   "source": [
    "scores_minmax_2.reshape(-1,1)"
   ]
  },
  {
   "cell_type": "code",
   "execution_count": 30,
   "metadata": {},
   "outputs": [
    {
     "data": {
      "text/plain": [
       "array([[0.05161503],\n",
       "       [0.02146591],\n",
       "       [0.00808254],\n",
       "       [0.00113733],\n",
       "       [0.04387317],\n",
       "       [0.02631901],\n",
       "       [0.05338182],\n",
       "       [0.03629984],\n",
       "       [0.06450957],\n",
       "       [0.09058597],\n",
       "       [0.06869472],\n",
       "       [0.11051071],\n",
       "       [0.13214254],\n",
       "       [0.12707815],\n",
       "       [0.11023888],\n",
       "       [0.09776501],\n",
       "       [0.1426907 ],\n",
       "       [0.11563782],\n",
       "       [0.09272815]])"
      ]
     },
     "execution_count": 30,
     "metadata": {},
     "output_type": "execute_result"
    }
   ],
   "source": [
    "scores_2_minmax_stack.reshape(-1,1)"
   ]
  },
  {
   "cell_type": "code",
   "execution_count": 31,
   "metadata": {},
   "outputs": [],
   "source": [
    "np.savetxt(\"scores2_minmax_ns.csv\", scores_minmax_2, delimiter=\",\")"
   ]
  }
 ],
 "metadata": {
  "kernelspec": {
   "display_name": "Python 3 (ipykernel)",
   "language": "python",
   "name": "python3"
  },
  "language_info": {
   "codemirror_mode": {
    "name": "ipython",
    "version": 3
   },
   "file_extension": ".py",
   "mimetype": "text/x-python",
   "name": "python",
   "nbconvert_exporter": "python",
   "pygments_lexer": "ipython3",
   "version": "3.8.16"
  }
 },
 "nbformat": 4,
 "nbformat_minor": 2
}
