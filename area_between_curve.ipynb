{
 "cells": [
  {
   "cell_type": "markdown",
   "metadata": {},
   "source": [
    "# Area between curves"
   ]
  },
  {
   "cell_type": "markdown",
   "metadata": {},
   "source": [
    "# Importing packages"
   ]
  },
  {
   "cell_type": "code",
   "execution_count": 1,
   "metadata": {},
   "outputs": [],
   "source": [
    "import numpy as np\n",
    "import matplotlib.pyplot as plt"
   ]
  },
  {
   "cell_type": "code",
   "execution_count": 2,
   "metadata": {},
   "outputs": [],
   "source": [
    "frequencies = np.array([10, 12.5, 16, 20, 25, 31.5, 40, 50, 63, 80, 100,\n",
    "                        125, 160, 200, 250, 315, 400, 500, 630, 800, 1000,\n",
    "                        1250, 1600, 2000, 2500, 3150, 4000, 5000, 6300,\n",
    "                        8000, 10000])\n",
    "windspeeds = np.array([8, 8.5, 9, 9.5, 10, 10.5, 11, 11.5, 12, 12.5, 13,\n",
    "                       13.5, 14, 14.5, 15, 15.5, 16])\n",
    "log_frequencies = np.log(frequencies)"
   ]
  },
  {
   "cell_type": "code",
   "execution_count": 3,
   "metadata": {},
   "outputs": [],
   "source": [
    "with open('turbine_1_measured.csv', 'r') as f:\n",
    "    volume_measured_data = np.genfromtxt(f, delimiter=',')"
   ]
  },
  {
   "cell_type": "code",
   "execution_count": 4,
   "metadata": {},
   "outputs": [],
   "source": [
    "with open('turbine_1_simulated.csv', 'r') as f:\n",
    "    volume_simulated_data = np.genfromtxt(f, delimiter=',')"
   ]
  },
  {
   "cell_type": "code",
   "execution_count": 5,
   "metadata": {},
   "outputs": [],
   "source": [
    "with open('turbine_2_measured.csv', 'r') as f:\n",
    "    volume_measured_2_data = np.genfromtxt(f, delimiter=',')"
   ]
  },
  {
   "cell_type": "code",
   "execution_count": 6,
   "metadata": {},
   "outputs": [],
   "source": [
    "with open('turbine_2_simulated.csv', 'r') as f:\n",
    "    volume_simulated_2_data = np.genfromtxt(f, delimiter=',')"
   ]
  },
  {
   "cell_type": "code",
   "execution_count": 7,
   "metadata": {},
   "outputs": [],
   "source": [
    "no_of_rows = volume_measured_data.shape[0]\n",
    "area = np.zeros((no_of_rows,1))"
   ]
  },
  {
   "cell_type": "code",
   "execution_count": 8,
   "metadata": {},
   "outputs": [],
   "source": [
    "no_of_rows_2 = volume_measured_2_data.shape[0]\n",
    "area_2 = np.zeros((no_of_rows_2,1))"
   ]
  },
  {
   "cell_type": "code",
   "execution_count": 9,
   "metadata": {},
   "outputs": [],
   "source": [
    "for i in range(no_of_rows):\n",
    "    volume_measured = volume_measured_data[i, :]\n",
    "    volume_simulated = volume_simulated_data[i, :]\n",
    "    y = np.abs(volume_measured - volume_simulated)\n",
    "    area[i] = np.trapz(y,log_frequencies)"
   ]
  },
  {
   "cell_type": "code",
   "execution_count": 10,
   "metadata": {},
   "outputs": [],
   "source": [
    "for i in range(no_of_rows_2):\n",
    "    volume_measured = volume_measured_2_data[i, :]\n",
    "    volume_simulated = volume_simulated_2_data[i, :]\n",
    "    y_2 = np.abs(volume_measured - volume_simulated)\n",
    "    area_2[i] = np.trapz(y_2,log_frequencies)"
   ]
  },
  {
   "cell_type": "code",
   "execution_count": 11,
   "metadata": {},
   "outputs": [
    {
     "data": {
      "text/plain": [
       "array([[28.45213138],\n",
       "       [35.00501419],\n",
       "       [35.54804024],\n",
       "       [36.21487018],\n",
       "       [34.05851422],\n",
       "       [30.25691476],\n",
       "       [27.29380081],\n",
       "       [20.02911332],\n",
       "       [18.03875827],\n",
       "       [16.79066674],\n",
       "       [16.36548171],\n",
       "       [17.50190905],\n",
       "       [21.01718023],\n",
       "       [26.77860262],\n",
       "       [23.04301939],\n",
       "       [23.79995997],\n",
       "       [23.37243914]])"
      ]
     },
     "execution_count": 11,
     "metadata": {},
     "output_type": "execute_result"
    }
   ],
   "source": [
    "area"
   ]
  },
  {
   "cell_type": "code",
   "execution_count": 12,
   "metadata": {},
   "outputs": [
    {
     "data": {
      "text/plain": [
       "array([[34.51409995],\n",
       "       [23.74093476],\n",
       "       [17.64414905],\n",
       "       [16.43156809],\n",
       "       [17.06352432],\n",
       "       [19.94176683],\n",
       "       [21.00987381],\n",
       "       [17.51036039],\n",
       "       [19.0031318 ],\n",
       "       [22.61554399],\n",
       "       [24.50488848],\n",
       "       [29.06820001],\n",
       "       [29.88608699],\n",
       "       [29.3738263 ],\n",
       "       [27.83140839],\n",
       "       [26.49887968],\n",
       "       [30.53670437],\n",
       "       [27.74741835],\n",
       "       [24.46712078]])"
      ]
     },
     "execution_count": 12,
     "metadata": {},
     "output_type": "execute_result"
    }
   ],
   "source": [
    "area_2"
   ]
  },
  {
   "cell_type": "code",
   "execution_count": 13,
   "metadata": {},
   "outputs": [],
   "source": [
    "np.savetxt(\"area_trap.csv\", area, delimiter=\",\")"
   ]
  },
  {
   "cell_type": "code",
   "execution_count": 14,
   "metadata": {},
   "outputs": [],
   "source": [
    "np.savetxt(\"area2_trap.csv\", area_2, delimiter=\",\")"
   ]
  }
 ],
 "metadata": {
  "kernelspec": {
   "display_name": "Python 3 (ipykernel)",
   "language": "python",
   "name": "python3"
  },
  "language_info": {
   "codemirror_mode": {
    "name": "ipython",
    "version": 3
   },
   "file_extension": ".py",
   "mimetype": "text/x-python",
   "name": "python",
   "nbconvert_exporter": "python",
   "pygments_lexer": "ipython3",
   "version": "3.8.16"
  }
 },
 "nbformat": 4,
 "nbformat_minor": 2
}
