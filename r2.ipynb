{
 "cells": [
  {
   "cell_type": "markdown",
   "metadata": {},
   "source": [
    "# Polynomial regression"
   ]
  },
  {
   "cell_type": "markdown",
   "metadata": {},
   "source": [
    "# Importing packages"
   ]
  },
  {
   "cell_type": "code",
   "execution_count": 12,
   "metadata": {},
   "outputs": [],
   "source": [
    "import numpy as np\n",
    "from sklearn.metrics import r2_score"
   ]
  },
  {
   "cell_type": "code",
   "execution_count": 13,
   "metadata": {},
   "outputs": [],
   "source": [
    "with open('turbine_1_measured.csv', 'r') as f:\n",
    "    volume_measured_data = np.genfromtxt(f, delimiter=',')"
   ]
  },
  {
   "cell_type": "code",
   "execution_count": 14,
   "metadata": {},
   "outputs": [],
   "source": [
    "with open('turbine_1_simulated.csv', 'r') as f:\n",
    "    volume_simulated_data = np.genfromtxt(f, delimiter=',')"
   ]
  },
  {
   "cell_type": "code",
   "execution_count": 15,
   "metadata": {},
   "outputs": [
    {
     "data": {
      "text/plain": [
       "17"
      ]
     },
     "execution_count": 15,
     "metadata": {},
     "output_type": "execute_result"
    }
   ],
   "source": [
    "volume_measured_data.shape[0]"
   ]
  },
  {
   "cell_type": "code",
   "execution_count": 25,
   "metadata": {},
   "outputs": [],
   "source": [
    "no_of_rows = volume_measured_data.shape[0]\n",
    "scores = np.zeros((no_of_rows,)).reshape(-1, 1)"
   ]
  },
  {
   "cell_type": "code",
   "execution_count": 26,
   "metadata": {},
   "outputs": [],
   "source": [
    "for i in range(no_of_rows):\n",
    "    volume_measured = volume_measured_data[i, :].reshape(-1, 1)\n",
    "    volume_simulated = volume_simulated_data[i, :].reshape(-1, 1)\n",
    "    scores[i] = r2_score(volume_measured, volume_simulated)"
   ]
  },
  {
   "cell_type": "code",
   "execution_count": 27,
   "metadata": {},
   "outputs": [
    {
     "data": {
      "text/plain": [
       "array([[0.8232764 ],\n",
       "       [0.71732426],\n",
       "       [0.71528754],\n",
       "       [0.69254334],\n",
       "       [0.73348202],\n",
       "       [0.79395549],\n",
       "       [0.82235995],\n",
       "       [0.88513093],\n",
       "       [0.87072079],\n",
       "       [0.88316478],\n",
       "       [0.87035497],\n",
       "       [0.80673159],\n",
       "       [0.73069461],\n",
       "       [0.6101861 ],\n",
       "       [0.73552749],\n",
       "       [0.77402078],\n",
       "       [0.76543081]])"
      ]
     },
     "execution_count": 27,
     "metadata": {},
     "output_type": "execute_result"
    }
   ],
   "source": [
    "scores"
   ]
  },
  {
   "cell_type": "code",
   "execution_count": 32,
   "metadata": {},
   "outputs": [],
   "source": [
    "np.savetxt(\"turbine1_r2.csv\", scores, delimiter=\",\")"
   ]
  },
  {
   "cell_type": "code",
   "execution_count": 19,
   "metadata": {},
   "outputs": [],
   "source": [
    "with open('turbine_2_measured.csv', 'r') as f:\n",
    "    volume_measured_2_data = np.genfromtxt(f, delimiter=',')"
   ]
  },
  {
   "cell_type": "code",
   "execution_count": 20,
   "metadata": {},
   "outputs": [],
   "source": [
    "with open('turbine_2_simulated.csv', 'r') as f:\n",
    "    volume_simulated_2_data = np.genfromtxt(f, delimiter=',')"
   ]
  },
  {
   "cell_type": "code",
   "execution_count": 21,
   "metadata": {},
   "outputs": [
    {
     "data": {
      "text/plain": [
       "19"
      ]
     },
     "execution_count": 21,
     "metadata": {},
     "output_type": "execute_result"
    }
   ],
   "source": [
    "volume_measured_2_data.shape[0]"
   ]
  },
  {
   "cell_type": "code",
   "execution_count": 28,
   "metadata": {},
   "outputs": [],
   "source": [
    "no_of_rows_2 = volume_measured_2_data.shape[0]\n",
    "scores_2 = np.zeros((no_of_rows_2,)).reshape(-1, 1)"
   ]
  },
  {
   "cell_type": "code",
   "execution_count": 29,
   "metadata": {},
   "outputs": [],
   "source": [
    "for i in range(no_of_rows_2):\n",
    "    volume_measured = volume_measured_2_data[i, :].reshape(-1, 1)\n",
    "    volume_simulated = volume_simulated_2_data[i, :].reshape(-1, 1)\n",
    "    scores_2[i] = r2_score(volume_measured, volume_simulated)"
   ]
  },
  {
   "cell_type": "code",
   "execution_count": 30,
   "metadata": {},
   "outputs": [
    {
     "data": {
      "text/plain": [
       "array([[0.85429985],\n",
       "       [0.90215594],\n",
       "       [0.92882423],\n",
       "       [0.93241976],\n",
       "       [0.92547234],\n",
       "       [0.90633659],\n",
       "       [0.90354891],\n",
       "       [0.92907733],\n",
       "       [0.92257421],\n",
       "       [0.88345078],\n",
       "       [0.88373081],\n",
       "       [0.8290025 ],\n",
       "       [0.80727058],\n",
       "       [0.81325734],\n",
       "       [0.83405035],\n",
       "       [0.8505153 ],\n",
       "       [0.78648722],\n",
       "       [0.83290082],\n",
       "       [0.86870761]])"
      ]
     },
     "execution_count": 30,
     "metadata": {},
     "output_type": "execute_result"
    }
   ],
   "source": [
    "scores_2"
   ]
  },
  {
   "cell_type": "code",
   "execution_count": 33,
   "metadata": {},
   "outputs": [],
   "source": [
    "np.savetxt(\"turbine2_r2.csv\", scores_2, delimiter=\",\")"
   ]
  }
 ],
 "metadata": {
  "kernelspec": {
   "display_name": "Python 3 (ipykernel)",
   "language": "python",
   "name": "python3"
  },
  "language_info": {
   "codemirror_mode": {
    "name": "ipython",
    "version": 3
   },
   "file_extension": ".py",
   "mimetype": "text/x-python",
   "name": "python",
   "nbconvert_exporter": "python",
   "pygments_lexer": "ipython3",
   "version": "3.8.16"
  }
 },
 "nbformat": 4,
 "nbformat_minor": 2
}
